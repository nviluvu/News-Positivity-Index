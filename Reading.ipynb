{
 "cells": [
  {
   "cell_type": "markdown",
   "metadata": {},
   "source": [
    "### ***Resources***\n",
    "https://youtu.be/BYqpxHxl-nc\n",
    "\n",
    "https://youtu.be/gwitf7ABtK8\n",
    "\n",
    "https://youtu.be/9UBqkUJVP4g\n",
    "\n",
    "https://www.youtube.com/watch?v=tb8gHvYlCFsc\n",
    "\n",
    "https://www.youtube.com/watch?v=ng2o98k983k"
   ]
  },
  {
   "cell_type": "code",
   "execution_count": 8,
   "metadata": {},
   "outputs": [],
   "source": [
    "import pandas as pd\n",
    "import numpy as np"
   ]
  },
  {
   "cell_type": "markdown",
   "metadata": {},
   "source": [
    "### ***Scraping***\n",
    "*from news site*"
   ]
  },
  {
   "cell_type": "code",
   "execution_count": 9,
   "metadata": {},
   "outputs": [],
   "source": [
    "import requests as rq\n",
    "from bs4 import BeautifulSoup as bfs"
   ]
  },
  {
   "cell_type": "code",
   "execution_count": 10,
   "metadata": {},
   "outputs": [
    {
     "output_type": "stream",
     "name": "stdout",
     "text": [
      "Date = 12-21-20\n"
     ]
    }
   ],
   "source": [
    "from datetime import date\n",
    "today = date.today()\n",
    "\n",
    "d = today.strftime(\"%m-%d-%y\")\n",
    "print(\"Date = {}\".format(d))\n",
    "\n",
    "d = \"12-01-20\""
   ]
  },
  {
   "cell_type": "code",
   "execution_count": 11,
   "metadata": {},
   "outputs": [],
   "source": [
    "cnn_url = \"https://edition.cnn.com/world/live-news/coronavirus-pandemic-{}-intl/index.html\".format(d)\n",
    "request = rq.get(cnn_url)"
   ]
  },
  {
   "cell_type": "code",
   "execution_count": 14,
   "metadata": {},
   "outputs": [],
   "source": [
    "site = bfs(request.content)"
   ]
  },
  {
   "cell_type": "code",
   "execution_count": 15,
   "metadata": {},
   "outputs": [],
   "source": [
    "df = pd.DataFrame()\n",
    "\n",
    "headlines = []\n",
    "for link in site.find_all(\"h2\"):\n",
    "    headlines.append(link.text)\n",
    "headlines.remove(headlines[0])\n",
    "\n",
    "articles = []\n",
    "for news in site.findAll(\"article\", {\"class\":\"sc-bwzfXH sc-kIPQKe jjVnED\"}):\n",
    "    articles.append(news.text.strip())\n",
    "    \n",
    "headlines = np.array(headlines)\n",
    "articles = np.array(articles)"
   ]
  },
  {
   "cell_type": "code",
   "execution_count": 16,
   "metadata": {},
   "outputs": [],
   "source": [
    "df[\"headline\"] = headlines\n",
    "df[\"article\"] = articles"
   ]
  },
  {
   "cell_type": "code",
   "execution_count": 18,
   "metadata": {},
   "outputs": [
    {
     "output_type": "execute_result",
     "data": {
      "text/plain": [
       "'10:51 p.m. ET, December 1, 2020Japan tops 150,000 Covid-19 cases, record number of people are in intensive careFrom CNN\\'s Junko Ogura in TokyoJapan surpassed 150,000 Covid-19 cases Wednesday after reporting 2,029 new infections in the past 24 hours, according to the country\\'s Health Ministry.The nationwide total number of cases now stands at 151,098.The Health Ministry also added 33 new deaths, bringing the country\\'s death toll to 2,185.Japan has seen nine straight days of a record-high number of coronavirus patients in intensive care and on respirators, with 493 people on Tuesday, up 21 from the previous day.Tokyo reported 372 new cases on Tuesday, bringing the capital\\'s total number of infections to 41,311.Health Minister Norihisa Tamura said on Monday the country is facing \"a sense of crisis.\"\"The number of people in serious condition tends to lag behind new cases. So, the fact that serious ones have increased to nearly 500 means we\\'re facing a sense of crisis,\" Tamura said.share with Facebookshare with Twittershare with emailshare link'"
      ]
     },
     "metadata": {},
     "execution_count": 18
    }
   ],
   "source": [
    "df[\"article\"].iloc[0]"
   ]
  },
  {
   "cell_type": "code",
   "execution_count": 19,
   "metadata": {},
   "outputs": [],
   "source": [
    "def sigmoid(x):\n",
    "    return 1 / (1 + np.exp(-x))"
   ]
  },
  {
   "cell_type": "code",
   "execution_count": null,
   "metadata": {},
   "outputs": [],
   "source": []
  }
 ],
 "metadata": {
  "kernelspec": {
   "display_name": "Python 3",
   "language": "python",
   "name": "python3"
  },
  "language_info": {
   "codemirror_mode": {
    "name": "ipython",
    "version": 3
   },
   "file_extension": ".py",
   "mimetype": "text/x-python",
   "name": "python",
   "nbconvert_exporter": "python",
   "pygments_lexer": "ipython3",
   "version": "3.8.3-final"
  }
 },
 "nbformat": 4,
 "nbformat_minor": 4
}